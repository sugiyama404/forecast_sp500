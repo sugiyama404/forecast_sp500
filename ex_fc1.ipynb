{
  "nbformat": 4,
  "nbformat_minor": 0,
  "metadata": {
    "colab": {
      "name": "ex_fc1.ipynb",
      "provenance": [],
      "collapsed_sections": [],
      "authorship_tag": "ABX9TyOomsczLE8pynrHijzNxmid",
      "include_colab_link": true
    },
    "kernelspec": {
      "name": "python3",
      "display_name": "Python 3"
    },
    "language_info": {
      "name": "python"
    }
  },
  "cells": [
    {
      "cell_type": "markdown",
      "metadata": {
        "id": "view-in-github",
        "colab_type": "text"
      },
      "source": [
        "<a href=\"https://colab.research.google.com/github/sugiyama404/forecast_sp500/blob/main/ex_fc1.ipynb\" target=\"_parent\"><img src=\"https://colab.research.google.com/assets/colab-badge.svg\" alt=\"Open In Colab\"/></a>"
      ]
    },
    {
      "cell_type": "code",
      "metadata": {
        "id": "ENxtgGhfQzj_"
      },
      "source": [
        "import numpy as np\n",
        "import pandas as pd\n",
        "import matplotlib.pyplot as plt\n",
        "\n",
        "from sklearn import preprocessing\n",
        "from keras.models import Sequential\n",
        "from keras.layers.core import Dense, Activation\n",
        "from keras.layers.recurrent import LSTM,GRU\n",
        "\n",
        "from keras.optimizers import Adam\n",
        "from keras.callbacks import EarlyStopping\n",
        "from sklearn.model_selection import train_test_split\n",
        "from google.colab import drive"
      ],
      "execution_count": 1,
      "outputs": []
    },
    {
      "cell_type": "code",
      "metadata": {
        "colab": {
          "base_uri": "https://localhost:8080/"
        },
        "id": "otZdorGeQ1Ft",
        "outputId": "02734ca5-09cd-4155-edc4-cfdde260dd71"
      },
      "source": [
        "drive.mount('/content/drive/')\n",
        "nov_dir = 'Colab Notebooks/dataset/'  # このフォルダへのパス\n",
        "nov_path = '/content/drive/My Drive/' + nov_dir + 'data_csv_sp500.csv'\n",
        "\n",
        "df = pd.read_csv(nov_path)\n",
        "df['Date'] = pd.to_datetime(df['Date'], format = '%Y-%m-%d')\n",
        "\n",
        "df['SP500'] = preprocessing.scale(df['SP500'])\n",
        "\n",
        "maxlen = 10\n",
        "X, Y = [], []\n",
        "for i in range(len(df) - maxlen):\n",
        "    X.append(df[['SP500']].iloc[i:(i+maxlen)].values)\n",
        "    Y.append(df[['SP500']].iloc[i+maxlen].values)\n",
        "X=np.array(X)\n",
        "Y=np.array(Y)\n",
        "\n",
        "N_train = int(len(df) * 0.8)\n",
        "N_test = len(df) - N_train\n",
        "X_train, X_test, y_train, y_test = \\\n",
        "    train_test_split(X, Y, test_size=N_test, shuffle = False) "
      ],
      "execution_count": 2,
      "outputs": [
        {
          "output_type": "stream",
          "text": [
            "Drive already mounted at /content/drive/; to attempt to forcibly remount, call drive.mount(\"/content/drive/\", force_remount=True).\n"
          ],
          "name": "stdout"
        }
      ]
    },
    {
      "cell_type": "code",
      "metadata": {
        "colab": {
          "base_uri": "https://localhost:8080/"
        },
        "id": "dqCaNoyVR-jl",
        "outputId": "fa3f2272-db3d-4c28-85b9-1bb2a10d8418"
      },
      "source": [
        "n_in = 1\n",
        "n_mid = 20\n",
        "n_out = 1\n",
        "batch_size = 8\n",
        "\n",
        "model = Sequential()\n",
        "model.add(GRU(n_mid,\n",
        "               batch_input_shape=(None, maxlen, n_in),\n",
        "               kernel_initializer='random_uniform',\n",
        "               return_sequences=False))\n",
        "model.add(Dense(n_in, kernel_initializer='random_uniform'))\n",
        "model.add(Activation(\"linear\"))\n",
        "\n",
        "opt = Adam(lr=0.001, beta_1=0.9, beta_2=0.999)\n",
        "model.compile(loss = \"mean_squared_error\", optimizer=opt)\n",
        "print(model.summary())"
      ],
      "execution_count": 3,
      "outputs": [
        {
          "output_type": "stream",
          "text": [
            "Model: \"sequential\"\n",
            "_________________________________________________________________\n",
            "Layer (type)                 Output Shape              Param #   \n",
            "=================================================================\n",
            "gru (GRU)                    (None, 20)                1380      \n",
            "_________________________________________________________________\n",
            "dense (Dense)                (None, 1)                 21        \n",
            "_________________________________________________________________\n",
            "activation (Activation)      (None, 1)                 0         \n",
            "=================================================================\n",
            "Total params: 1,401\n",
            "Trainable params: 1,401\n",
            "Non-trainable params: 0\n",
            "_________________________________________________________________\n",
            "None\n"
          ],
          "name": "stdout"
        }
      ]
    },
    {
      "cell_type": "code",
      "metadata": {
        "colab": {
          "base_uri": "https://localhost:8080/"
        },
        "id": "g9dDIGI0CGC9",
        "outputId": "fba4e649-ffb8-4d46-8692-ab11a359a0ab"
      },
      "source": [
        "import time\n",
        "\n",
        "epochs = 100\n",
        "\n",
        "start_time = time.time()\n",
        "hist = model.fit(X_train, y_train, batch_size=batch_size, epochs=epochs,verbose=0)\n",
        "print(\"学習時間 --GRU--:\", time.time() - start_time)"
      ],
      "execution_count": 4,
      "outputs": [
        {
          "output_type": "stream",
          "text": [
            "学習時間 --GRU--: 66.61221432685852\n"
          ],
          "name": "stdout"
        }
      ]
    },
    {
      "cell_type": "code",
      "metadata": {
        "colab": {
          "base_uri": "https://localhost:8080/",
          "height": 528
        },
        "id": "aBd9iqInSJts",
        "outputId": "98b1f219-4542-4e07-a132-14714717eed2"
      },
      "source": [
        "loss = hist.history['loss']\n",
        "epochs = len(loss)\n",
        "\n",
        "plt.plot(range(epochs), loss, marker='.', label='loss(training data)')\n",
        "nov_dir = 'Colab Notebooks/workspace/'  # このフォルダへのパス\n",
        "nov_path = '/content/drive/My Drive/' + nov_dir + 'ex_fc1_1.png'\n",
        "\n",
        "plt.savefig(nov_path)\n",
        "plt.show()\n",
        "plt.close('all')\n",
        "\n",
        "# 予測結果\n",
        "predicted = model.predict(X_test)\n",
        "result = pd.DataFrame(predicted)\n",
        "result.columns = ['forcast']\n",
        "result['actual'] = y_test\n",
        "\n",
        "plt.figure()\n",
        "result.plot()\n",
        "nov_dir = 'Colab Notebooks/workspace/'  # このフォルダへのパス\n",
        "nov_path = '/content/drive/My Drive/' + nov_dir + 'ex_fc1_2.png'\n",
        "\n",
        "plt.savefig(nov_path)\n",
        "plt.show()\n",
        "plt.close('all')\n"
      ],
      "execution_count": 7,
      "outputs": [
        {
          "output_type": "display_data",
          "data": {
            "image/png": "[encoded data removed]",
            "text/plain": [
              "<Figure size 432x288 with 1 Axes>"
            ]
          },
          "metadata": {
            "tags": [],
            "needs_background": "light"
          }
        },
        {
          "output_type": "display_data",
          "data": {
            "text/plain": [
              "<Figure size 432x288 with 0 Axes>"
            ]
          },
          "metadata": {
            "tags": []
          }
        },
        {
          "output_type": "display_data",
          "data": {
            "image/png": "[encoded data removed]",
            "text/plain": [
              "<Figure size 432x288 with 1 Axes>"
            ]
          },
          "metadata": {
            "tags": [],
            "needs_background": "light"
          }
        }
      ]
    }
  ]
}