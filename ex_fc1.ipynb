{
  "nbformat": 4,
  "nbformat_minor": 0,
  "metadata": {
    "colab": {
      "name": "ex_fc1.ipynb",
      "provenance": [],
      "collapsed_sections": [],
      "authorship_tag": "ABX9TyPCbFes2x2jskm8mm5FnumD",
      "include_colab_link": true
    },
    "kernelspec": {
      "name": "python3",
      "display_name": "Python 3"
    },
    "language_info": {
      "name": "python"
    }
  },
  "cells": [
    {
      "cell_type": "markdown",
      "metadata": {
        "id": "view-in-github",
        "colab_type": "text"
      },
      "source": [
        "<a href=\"https://colab.research.google.com/github/sugiyama404/forecast_sp500/blob/main/ex_fc1.ipynb\" target=\"_parent\"><img src=\"https://colab.research.google.com/assets/colab-badge.svg\" alt=\"Open In Colab\"/></a>"
      ]
    },
    {
      "cell_type": "code",
      "metadata": {
        "colab": {
          "base_uri": "https://localhost:8080/",
          "height": 1000
        },
        "id": "Cb554eRw9VqA",
        "outputId": "3d0feed5-d78a-4c98-960d-b2921bb44e2f"
      },
      "source": [
        "\n",
        "import numpy as np\n",
        "import pandas as pd\n",
        "import matplotlib.pyplot as plt\n",
        "\n",
        "from sklearn import preprocessing\n",
        "from keras.models import Sequential\n",
        "from keras.layers.core import Dense, Activation\n",
        "from keras.layers.recurrent import LSTM,GRU\n",
        "\n",
        "from keras.optimizers import Adam\n",
        "from keras.callbacks import EarlyStopping\n",
        "from sklearn.model_selection import train_test_split\n",
        "from google.colab import drive\n",
        "\n",
        "# データ読み込み\n",
        "drive.mount('/content/drive/')\n",
        "nov_dir = 'Colab Notebooks/dataset/'  # このフォルダへのパス\n",
        "nov_path = '/content/drive/My Drive/' + nov_dir + 'data_csv_sp500.csv'\n",
        "\n",
        "df = pd.read_csv(nov_path)\n",
        "df['Date'] = pd.to_datetime(df['Date'], format = '%Y-%m-%d')\n",
        "\n",
        "#データの標準化\n",
        "df['SP500'] = preprocessing.scale(df['SP500'])\n",
        "df = df.loc[:, ['Date', 'SP500']]\n",
        "\n",
        "#訓練、テストデータの作成\n",
        "maxlen = 10\n",
        "X, Y = [], []\n",
        "for i in range(len(df) - maxlen):\n",
        "    X.append(df[['SP500']].iloc[i:(i+maxlen)].values)\n",
        "    Y.append(df[['SP500']].iloc[i+maxlen].values)\n",
        "X=np.array(X)\n",
        "Y=np.array(Y)\n",
        "\n",
        "# 訓練用のデータと、テスト用のデータに分ける\n",
        "N_train = int(len(df) * 0.8)\n",
        "N_test = len(df) - N_train\n",
        "X_train, X_test, y_train, y_test = \\\n",
        "    train_test_split(X, Y, test_size=N_test, shuffle = False) \n",
        "\n",
        "# 隠れ層の数などを定義: 隠れ層の数が大きいほど精度が上がる?\n",
        "n_in = 1 # len(X[0][0])\n",
        "n_out = 1 # len(Y[0])\n",
        "n_hidden = 300\n",
        "\n",
        "#モデル作成 (Kerasのフレームワークで簡易に記載できる)\n",
        "model = Sequential()\n",
        "model.add(GRU(n_hidden,\n",
        "               batch_input_shape=(None, maxlen, n_in),\n",
        "               kernel_initializer='random_uniform',\n",
        "               return_sequences=False))\n",
        "model.add(Dense(n_in, kernel_initializer='random_uniform'))\n",
        "model.add(Activation(\"linear\"))\n",
        "\n",
        "opt = Adam(lr=0.001, beta_1=0.9, beta_2=0.999)\n",
        "model.compile(loss = \"mean_squared_error\", optimizer=opt)\n",
        "\n",
        "early_stopping = EarlyStopping(monitor='loss', patience=10, verbose=1)\n",
        "hist = model.fit(X_train, y_train, batch_size=maxlen, epochs=50,\n",
        "                 callbacks=[early_stopping])\n",
        "\n",
        "# 損失のグラフ化\n",
        "loss = hist.history['loss']\n",
        "epochs = len(loss)\n",
        "plt.rc('font', family='serif')\n",
        "fig = plt.figure()\n",
        "fig.patch.set_facecolor('white')\n",
        "plt.plot(range(epochs), loss, marker='.', label='loss(training data)')\n",
        "plt.show()\n",
        "nov_dir = 'Colab Notebooks/workspace/'  # このフォルダへのパス\n",
        "nov_path = '/content/drive/My Drive/' + nov_dir + 'ex_fc1_1.png'\n",
        "\n",
        "plt.savefig(nov_path)\n",
        "plt.close('all')\n",
        "\n",
        "# 予測結果\n",
        "predicted = model.predict(X_test)\n",
        "result = pd.DataFrame(predicted)\n",
        "result.columns = ['predict']\n",
        "result['actual'] = y_test\n",
        "plt.figure()\n",
        "result.plot()\n",
        "plt.show()\n",
        "\n",
        "nov_dir = 'Colab Notebooks/workspace/'  # このフォルダへのパス\n",
        "nov_path = '/content/drive/My Drive/' + nov_dir + 'ex_fc1_2.png'\n",
        "\n",
        "plt.savefig(nov_path)\n",
        "plt.close('all')\n"
      ],
      "execution_count": 9,
      "outputs": [
        {
          "output_type": "stream",
          "text": [
            "Drive already mounted at /content/drive/; to attempt to forcibly remount, call drive.mount(\"/content/drive/\", force_remount=True).\n",
            "Epoch 1/50\n",
            "141/141 [==============================] - 5s 20ms/step - loss: 0.0299\n",
            "Epoch 2/50\n",
            "141/141 [==============================] - 3s 20ms/step - loss: 1.2731e-04\n",
            "Epoch 3/50\n",
            "141/141 [==============================] - 3s 20ms/step - loss: 1.7455e-04\n",
            "Epoch 4/50\n",
            "141/141 [==============================] - 3s 19ms/step - loss: 1.5821e-04\n",
            "Epoch 5/50\n",
            "141/141 [==============================] - 3s 20ms/step - loss: 1.3480e-04\n",
            "Epoch 6/50\n",
            "141/141 [==============================] - 3s 20ms/step - loss: 1.2312e-04\n",
            "Epoch 7/50\n",
            "141/141 [==============================] - 3s 20ms/step - loss: 1.2723e-04\n",
            "Epoch 8/50\n",
            "141/141 [==============================] - 3s 20ms/step - loss: 1.2683e-04\n",
            "Epoch 9/50\n",
            "141/141 [==============================] - 3s 20ms/step - loss: 1.6359e-04\n",
            "Epoch 10/50\n",
            "141/141 [==============================] - 3s 20ms/step - loss: 1.2135e-04\n",
            "Epoch 11/50\n",
            "141/141 [==============================] - 3s 19ms/step - loss: 9.9240e-05\n",
            "Epoch 12/50\n",
            "141/141 [==============================] - 3s 19ms/step - loss: 1.2625e-04\n",
            "Epoch 13/50\n",
            "141/141 [==============================] - 3s 19ms/step - loss: 9.6408e-05\n",
            "Epoch 14/50\n",
            "141/141 [==============================] - 3s 19ms/step - loss: 1.4687e-04\n",
            "Epoch 15/50\n",
            "141/141 [==============================] - 3s 19ms/step - loss: 8.0557e-05\n",
            "Epoch 16/50\n",
            "141/141 [==============================] - 3s 19ms/step - loss: 7.6189e-05\n",
            "Epoch 17/50\n",
            "141/141 [==============================] - 3s 19ms/step - loss: 7.3524e-05\n",
            "Epoch 18/50\n",
            "141/141 [==============================] - 3s 19ms/step - loss: 1.2013e-04\n",
            "Epoch 19/50\n",
            "141/141 [==============================] - 3s 20ms/step - loss: 1.0018e-04\n",
            "Epoch 20/50\n",
            "141/141 [==============================] - 3s 19ms/step - loss: 1.2823e-04\n",
            "Epoch 21/50\n",
            "141/141 [==============================] - 3s 20ms/step - loss: 8.1556e-05\n",
            "Epoch 22/50\n",
            "141/141 [==============================] - 3s 19ms/step - loss: 8.0634e-05\n",
            "Epoch 23/50\n",
            "141/141 [==============================] - 3s 20ms/step - loss: 8.5722e-05\n",
            "Epoch 24/50\n",
            "141/141 [==============================] - 3s 21ms/step - loss: 5.8415e-05\n",
            "Epoch 25/50\n",
            "141/141 [==============================] - 3s 20ms/step - loss: 6.0093e-05\n",
            "Epoch 26/50\n",
            "141/141 [==============================] - 3s 20ms/step - loss: 6.1871e-05\n",
            "Epoch 27/50\n",
            "141/141 [==============================] - 3s 20ms/step - loss: 7.0396e-05\n",
            "Epoch 28/50\n",
            "141/141 [==============================] - 3s 21ms/step - loss: 7.9159e-05\n",
            "Epoch 29/50\n",
            "141/141 [==============================] - 3s 20ms/step - loss: 6.8608e-05\n",
            "Epoch 30/50\n",
            "141/141 [==============================] - 3s 20ms/step - loss: 5.5948e-05\n",
            "Epoch 31/50\n",
            "141/141 [==============================] - 3s 20ms/step - loss: 5.3541e-05\n",
            "Epoch 32/50\n",
            "141/141 [==============================] - 3s 20ms/step - loss: 6.2459e-05\n",
            "Epoch 33/50\n",
            "141/141 [==============================] - 3s 20ms/step - loss: 3.9703e-05\n",
            "Epoch 34/50\n",
            "141/141 [==============================] - 3s 20ms/step - loss: 4.7913e-05\n",
            "Epoch 35/50\n",
            "141/141 [==============================] - 3s 20ms/step - loss: 3.7260e-05\n",
            "Epoch 36/50\n",
            "141/141 [==============================] - 3s 20ms/step - loss: 3.7739e-05\n",
            "Epoch 37/50\n",
            "141/141 [==============================] - 3s 20ms/step - loss: 5.0007e-05\n",
            "Epoch 38/50\n",
            "141/141 [==============================] - 3s 20ms/step - loss: 6.5158e-05\n",
            "Epoch 39/50\n",
            "141/141 [==============================] - 3s 21ms/step - loss: 5.7365e-05\n",
            "Epoch 40/50\n",
            "141/141 [==============================] - 3s 21ms/step - loss: 4.0883e-05\n",
            "Epoch 41/50\n",
            "141/141 [==============================] - 3s 20ms/step - loss: 4.1627e-05\n",
            "Epoch 42/50\n",
            "141/141 [==============================] - 3s 20ms/step - loss: 3.7596e-05\n",
            "Epoch 43/50\n",
            "141/141 [==============================] - 3s 20ms/step - loss: 3.4922e-05\n",
            "Epoch 44/50\n",
            "141/141 [==============================] - 3s 21ms/step - loss: 3.6447e-05\n",
            "Epoch 45/50\n",
            "141/141 [==============================] - 3s 20ms/step - loss: 3.8155e-05\n",
            "Epoch 46/50\n",
            "141/141 [==============================] - 3s 20ms/step - loss: 3.0106e-05\n",
            "Epoch 47/50\n",
            "141/141 [==============================] - 3s 20ms/step - loss: 3.8522e-05\n",
            "Epoch 48/50\n",
            "141/141 [==============================] - 3s 20ms/step - loss: 3.3928e-05\n",
            "Epoch 49/50\n",
            "141/141 [==============================] - 3s 20ms/step - loss: 4.1624e-05\n",
            "Epoch 50/50\n",
            "141/141 [==============================] - 3s 20ms/step - loss: 2.2255e-05\n"
          ],
          "name": "stdout"
        },
        {
          "output_type": "display_data",
          "data": {
            "image/png": "[encoded data removed]",
            "text/plain": [
              "<Figure size 432x288 with 1 Axes>"
            ]
          },
          "metadata": {
            "tags": []
          }
        },
        {
          "output_type": "display_data",
          "data": {
            "text/plain": [
              "<Figure size 432x288 with 0 Axes>"
            ]
          },
          "metadata": {
            "tags": []
          }
        },
        {
          "output_type": "display_data",
          "data": {
            "image/png": "[encoded data removed]",
            "text/plain": [
              "<Figure size 432x288 with 1 Axes>"
            ]
          },
          "metadata": {
            "tags": [],
            "needs_background": "light"
          }
        }
      ]
    }
  ]
}