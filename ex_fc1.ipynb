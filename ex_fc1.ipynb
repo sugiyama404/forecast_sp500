{
  "nbformat": 4,
  "nbformat_minor": 0,
  "metadata": {
    "colab": {
      "name": "ex_fc1.ipynb",
      "provenance": [],
      "collapsed_sections": [],
      "authorship_tag": "ABX9TyNpnY2DWuwSxAebX5PdyEbn",
      "include_colab_link": true
    },
    "kernelspec": {
      "name": "python3",
      "display_name": "Python 3"
    },
    "language_info": {
      "name": "python"
    }
  },
  "cells": [
    {
      "cell_type": "markdown",
      "metadata": {
        "id": "view-in-github",
        "colab_type": "text"
      },
      "source": [
        "<a href=\"https://colab.research.google.com/github/sugiyama404/forecast_sp500/blob/main/ex_fc1.ipynb\" target=\"_parent\"><img src=\"https://colab.research.google.com/assets/colab-badge.svg\" alt=\"Open In Colab\"/></a>"
      ]
    },
    {
      "cell_type": "code",
      "metadata": {
        "id": "ENxtgGhfQzj_"
      },
      "source": [
        "import numpy as np\n",
        "import pandas as pd\n",
        "import matplotlib.pyplot as plt\n",
        "\n",
        "from sklearn import preprocessing\n",
        "from keras.models import Sequential\n",
        "from keras.layers.core import Dense, Activation\n",
        "from keras.layers.recurrent import LSTM,GRU\n",
        "\n",
        "from keras.optimizers import Adam\n",
        "from keras.callbacks import EarlyStopping\n",
        "from sklearn.model_selection import train_test_split\n",
        "from google.colab import drive"
      ],
      "execution_count": 1,
      "outputs": []
    },
    {
      "cell_type": "code",
      "metadata": {
        "colab": {
          "base_uri": "https://localhost:8080/"
        },
        "id": "otZdorGeQ1Ft",
        "outputId": "77a87249-b506-4e70-a151-626bfc438c4b"
      },
      "source": [
        "# データ読み込み\n",
        "drive.mount('/content/drive/')\n",
        "nov_dir = 'Colab Notebooks/dataset/'  # このフォルダへのパス\n",
        "nov_path = '/content/drive/My Drive/' + nov_dir + 'data_csv_sp500.csv'\n",
        "\n",
        "df = pd.read_csv(nov_path)\n",
        "df['Date'] = pd.to_datetime(df['Date'], format = '%Y-%m-%d')\n",
        "\n",
        "#データの標準化\n",
        "df['SP500'] = preprocessing.scale(df['SP500'])"
      ],
      "execution_count": 2,
      "outputs": [
        {
          "output_type": "stream",
          "text": [
            "Drive already mounted at /content/drive/; to attempt to forcibly remount, call drive.mount(\"/content/drive/\", force_remount=True).\n"
          ],
          "name": "stdout"
        }
      ]
    },
    {
      "cell_type": "code",
      "metadata": {
        "id": "VRtJsPUeRGdr"
      },
      "source": [
        "#訓練、テストデータの作成\n",
        "maxlen = 10\n",
        "X, Y = [], []\n",
        "for i in range(len(df) - maxlen):\n",
        "    X.append(df[['SP500']].iloc[i:(i+maxlen)].values)\n",
        "    Y.append(df[['SP500']].iloc[i+maxlen].values)\n",
        "X=np.array(X)\n",
        "Y=np.array(Y)\n",
        "\n",
        "# 訓練用のデータと、テスト用のデータに分ける\n",
        "N_train = int(len(df) * 0.8)\n",
        "N_test = len(df) - N_train\n",
        "X_train, X_test, y_train, y_test = \\\n",
        "    train_test_split(X, Y, test_size=N_test, shuffle = False)"
      ],
      "execution_count": 7,
      "outputs": []
    },
    {
      "cell_type": "code",
      "metadata": {
        "colab": {
          "base_uri": "https://localhost:8080/"
        },
        "id": "dqCaNoyVR-jl",
        "outputId": "b854f538-5e39-4c9a-aa23-85dfa61adc85"
      },
      "source": [
        "#学習\n",
        "\n",
        "# 隠れ層の数などを定義: 隠れ層の数が大きいほど精度が上がる?\n",
        "n_in = 1 # len(X[0][0])\n",
        "n_out = 1 # len(Y[0])\n",
        "n_hidden = 300\n",
        "\n",
        "model = Sequential()\n",
        "model.add(GRU(n_hidden,\n",
        "               batch_input_shape=(None, maxlen, n_in),\n",
        "               kernel_initializer='random_uniform',\n",
        "               return_sequences=False))\n",
        "model.add(Dense(n_in, kernel_initializer='random_uniform'))\n",
        "model.add(Activation(\"linear\"))\n",
        "\n",
        "opt = Adam(lr=0.001, beta_1=0.9, beta_2=0.999)\n",
        "model.compile(loss = \"mean_squared_error\", optimizer=opt)\n",
        "\n",
        "early_stopping = EarlyStopping(monitor='loss', patience=10, verbose=1)\n",
        "hist = model.fit(X_train, y_train, batch_size=maxlen, epochs=50,\n",
        "                 callbacks=[early_stopping])"
      ],
      "execution_count": 8,
      "outputs": [
        {
          "output_type": "stream",
          "text": [
            "Epoch 1/50\n",
            "141/141 [==============================] - 5s 20ms/step - loss: 0.0281\n",
            "Epoch 2/50\n",
            "141/141 [==============================] - 3s 19ms/step - loss: 1.3240e-04\n",
            "Epoch 3/50\n",
            "141/141 [==============================] - 3s 19ms/step - loss: 1.2272e-04\n",
            "Epoch 4/50\n",
            "141/141 [==============================] - 3s 19ms/step - loss: 1.4520e-04\n",
            "Epoch 5/50\n",
            "141/141 [==============================] - 3s 19ms/step - loss: 1.0782e-04\n",
            "Epoch 6/50\n",
            "141/141 [==============================] - 3s 20ms/step - loss: 2.0979e-04\n",
            "Epoch 7/50\n",
            "141/141 [==============================] - 3s 20ms/step - loss: 1.0797e-04\n",
            "Epoch 8/50\n",
            "141/141 [==============================] - 3s 20ms/step - loss: 1.4207e-04\n",
            "Epoch 9/50\n",
            "141/141 [==============================] - 3s 20ms/step - loss: 1.1910e-04\n",
            "Epoch 10/50\n",
            "141/141 [==============================] - 3s 19ms/step - loss: 1.1292e-04\n",
            "Epoch 11/50\n",
            "141/141 [==============================] - 3s 20ms/step - loss: 1.1477e-04\n",
            "Epoch 12/50\n",
            "141/141 [==============================] - 3s 20ms/step - loss: 7.8901e-05\n",
            "Epoch 13/50\n",
            "141/141 [==============================] - 3s 20ms/step - loss: 1.3524e-04\n",
            "Epoch 14/50\n",
            "141/141 [==============================] - 3s 19ms/step - loss: 1.0347e-04\n",
            "Epoch 15/50\n",
            "141/141 [==============================] - 3s 19ms/step - loss: 8.4344e-05\n",
            "Epoch 16/50\n",
            "141/141 [==============================] - 3s 19ms/step - loss: 1.0076e-04\n",
            "Epoch 17/50\n",
            "141/141 [==============================] - 3s 20ms/step - loss: 2.3035e-04\n",
            "Epoch 18/50\n",
            "141/141 [==============================] - 3s 19ms/step - loss: 8.3053e-05\n",
            "Epoch 19/50\n",
            "141/141 [==============================] - 3s 20ms/step - loss: 6.3807e-05\n",
            "Epoch 20/50\n",
            "141/141 [==============================] - 3s 20ms/step - loss: 8.7139e-05\n",
            "Epoch 21/50\n",
            "141/141 [==============================] - 3s 19ms/step - loss: 5.8311e-05\n",
            "Epoch 22/50\n",
            "141/141 [==============================] - 3s 20ms/step - loss: 1.2388e-04\n",
            "Epoch 23/50\n",
            "141/141 [==============================] - 3s 19ms/step - loss: 7.1092e-05\n",
            "Epoch 24/50\n",
            "141/141 [==============================] - 3s 19ms/step - loss: 5.4119e-05\n",
            "Epoch 25/50\n",
            "141/141 [==============================] - 3s 20ms/step - loss: 5.8654e-05\n",
            "Epoch 26/50\n",
            "141/141 [==============================] - 3s 20ms/step - loss: 7.7306e-05\n",
            "Epoch 27/50\n",
            "141/141 [==============================] - 3s 20ms/step - loss: 6.4983e-05\n",
            "Epoch 28/50\n",
            "141/141 [==============================] - 3s 20ms/step - loss: 5.7196e-05\n",
            "Epoch 29/50\n",
            "141/141 [==============================] - 3s 20ms/step - loss: 6.1495e-05\n",
            "Epoch 30/50\n",
            "141/141 [==============================] - 3s 20ms/step - loss: 8.2515e-05\n",
            "Epoch 31/50\n",
            "141/141 [==============================] - 3s 20ms/step - loss: 5.5947e-05\n",
            "Epoch 32/50\n",
            "141/141 [==============================] - 3s 19ms/step - loss: 4.5087e-05\n",
            "Epoch 33/50\n",
            "141/141 [==============================] - 3s 20ms/step - loss: 7.1329e-05\n",
            "Epoch 34/50\n",
            "141/141 [==============================] - 3s 20ms/step - loss: 3.5629e-05\n",
            "Epoch 35/50\n",
            "141/141 [==============================] - 3s 20ms/step - loss: 3.6680e-05\n",
            "Epoch 36/50\n",
            "141/141 [==============================] - 3s 20ms/step - loss: 4.1281e-05\n",
            "Epoch 37/50\n",
            "141/141 [==============================] - 3s 20ms/step - loss: 3.8483e-05\n",
            "Epoch 38/50\n",
            "141/141 [==============================] - 3s 20ms/step - loss: 4.9716e-05\n",
            "Epoch 39/50\n",
            "141/141 [==============================] - 3s 20ms/step - loss: 4.9278e-05\n",
            "Epoch 40/50\n",
            "141/141 [==============================] - 3s 20ms/step - loss: 4.4045e-05\n",
            "Epoch 41/50\n",
            "141/141 [==============================] - 3s 20ms/step - loss: 3.3069e-05\n",
            "Epoch 42/50\n",
            "141/141 [==============================] - 3s 21ms/step - loss: 3.0617e-05\n",
            "Epoch 43/50\n",
            "141/141 [==============================] - 3s 21ms/step - loss: 3.7684e-05\n",
            "Epoch 44/50\n",
            "141/141 [==============================] - 3s 20ms/step - loss: 3.3575e-05\n",
            "Epoch 45/50\n",
            "141/141 [==============================] - 3s 21ms/step - loss: 4.1110e-05\n",
            "Epoch 46/50\n",
            "141/141 [==============================] - 3s 20ms/step - loss: 3.0917e-05\n",
            "Epoch 47/50\n",
            "141/141 [==============================] - 3s 20ms/step - loss: 3.3320e-05\n",
            "Epoch 48/50\n",
            "141/141 [==============================] - 3s 20ms/step - loss: 3.9810e-05\n",
            "Epoch 49/50\n",
            "141/141 [==============================] - 3s 20ms/step - loss: 4.1906e-05\n",
            "Epoch 50/50\n",
            "141/141 [==============================] - 3s 20ms/step - loss: 3.6247e-05\n"
          ],
          "name": "stdout"
        }
      ]
    },
    {
      "cell_type": "code",
      "metadata": {
        "colab": {
          "base_uri": "https://localhost:8080/",
          "height": 528
        },
        "id": "aBd9iqInSJts",
        "outputId": "f835d54c-6a12-421f-d1c7-add421777b83"
      },
      "source": [
        "# 損失のグラフ化\n",
        "loss = hist.history['loss']\n",
        "epochs = len(loss)\n",
        "plt.rc('font', family='serif')\n",
        "\n",
        "fig = plt.figure()\n",
        "fig.patch.set_facecolor('white')\n",
        "plt.plot(range(epochs), loss, marker='.', label='loss(training data)')\n",
        "nov_dir = 'Colab Notebooks/workspace/'  # このフォルダへのパス\n",
        "nov_path = '/content/drive/My Drive/' + nov_dir + 'ex_fc1_1.png'\n",
        "\n",
        "plt.savefig(nov_path)\n",
        "plt.show()\n",
        "plt.close('all')\n",
        "\n",
        "# 予測結果\n",
        "predicted = model.predict(X_test)\n",
        "result = pd.DataFrame(predicted)\n",
        "result.columns = ['predict']\n",
        "result['actual'] = y_test\n",
        "plt.figure()\n",
        "result.plot()\n",
        "\n",
        "nov_dir = 'Colab Notebooks/workspace/'  # このフォルダへのパス\n",
        "nov_path = '/content/drive/My Drive/' + nov_dir + 'ex_fc1_2.png'\n",
        "\n",
        "plt.savefig(nov_path)\n",
        "plt.show()\n",
        "plt.close('all')\n"
      ],
      "execution_count": 11,
      "outputs": [
        {
          "output_type": "display_data",
          "data": {
            "image/png": "[encoded data removed]",
            "text/plain": [
              "<Figure size 432x288 with 1 Axes>"
            ]
          },
          "metadata": {
            "tags": []
          }
        },
        {
          "output_type": "display_data",
          "data": {
            "text/plain": [
              "<Figure size 432x288 with 0 Axes>"
            ]
          },
          "metadata": {
            "tags": []
          }
        },
        {
          "output_type": "display_data",
          "data": {
            "image/png": "[encoded data removed]",
            "text/plain": [
              "<Figure size 432x288 with 1 Axes>"
            ]
          },
          "metadata": {
            "tags": [],
            "needs_background": "light"
          }
        }
      ]
    }
  ]
}