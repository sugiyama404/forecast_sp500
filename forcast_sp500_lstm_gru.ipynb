{
  "nbformat": 4,
  "nbformat_minor": 0,
  "metadata": {
    "colab": {
      "name": "forcast_sp500_lstm_gru.ipynb",
      "provenance": [],
      "collapsed_sections": [],
      "authorship_tag": "ABX9TyNxAO5PbJiGCVjaRuyBThle",
      "include_colab_link": true
    },
    "kernelspec": {
      "name": "python3",
      "display_name": "Python 3"
    },
    "language_info": {
      "name": "python"
    }
  },
  "cells": [
    {
      "cell_type": "markdown",
      "metadata": {
        "id": "view-in-github",
        "colab_type": "text"
      },
      "source": [
        "<a href=\"https://colab.research.google.com/github/sugiyama404/forecast_sp500/blob/main/forcast_sp500_lstm_gru.ipynb\" target=\"_parent\"><img src=\"https://colab.research.google.com/assets/colab-badge.svg\" alt=\"Open In Colab\"/></a>"
      ]
    },
    {
      "cell_type": "code",
      "metadata": {
        "id": "ENxtgGhfQzj_"
      },
      "source": [
        "import numpy as np\n",
        "import pandas as pd\n",
        "import matplotlib.pyplot as plt\n",
        "\n",
        "from sklearn import preprocessing\n",
        "from keras.models import Sequential\n",
        "from keras.layers.core import Dense, Activation\n",
        "from keras.layers.recurrent import LSTM,GRU\n",
        "\n",
        "from keras.optimizers import Adam\n",
        "from keras.callbacks import EarlyStopping\n",
        "from sklearn.model_selection import train_test_split\n",
        "from google.colab import drive\n",
        "import time"
      ],
      "execution_count": null,
      "outputs": []
    },
    {
      "cell_type": "code",
      "metadata": {
        "colab": {
          "base_uri": "https://localhost:8080/"
        },
        "id": "otZdorGeQ1Ft",
        "outputId": "59dca899-7a83-4394-b0c0-0e8f920288e9"
      },
      "source": [
        "drive.mount('/content/drive/')\n",
        "nov_dir = 'Colab Notebooks/dataset/'  # このフォルダへのパス\n",
        "nov_path = '/content/drive/My Drive/' + nov_dir + 'data_csv_sp500.csv'\n",
        "\n",
        "df = pd.read_csv(nov_path)\n",
        "df['Date'] = pd.to_datetime(df['Date'], format = '%Y-%m-%d')\n",
        "df['SP500'] = preprocessing.scale(df['SP500'])\n",
        "\n",
        "print(df.shape)\n",
        "\n",
        "maxlen = 10\n",
        "n_sample = len(df) - maxlen\n",
        "X, Y = [], []\n",
        "for i in range(len(df) - maxlen):\n",
        "    X.append(df[['SP500']].iloc[i:(i+maxlen)].values)\n",
        "    Y.append(df[['SP500']].iloc[i+maxlen].values)\n",
        "X=np.array(X)\n",
        "Y=np.array(Y)\n",
        "\n",
        "print(X.shape)\n",
        "print(Y.shape)\n",
        "\n",
        "N_train = int(len(df) * 0.8)\n",
        "N_test = len(df) - N_train\n",
        "X_train, X_test, y_train, y_test = train_test_split(X, Y, test_size=N_test, shuffle = False) "
      ],
      "execution_count": null,
      "outputs": [
        {
          "output_type": "stream",
          "text": [
            "Drive already mounted at /content/drive/; to attempt to forcibly remount, call drive.mount(\"/content/drive/\", force_remount=True).\n",
            "(1768, 2)\n",
            "(1758, 10, 1)\n",
            "(1758, 1)\n"
          ],
          "name": "stdout"
        }
      ]
    },
    {
      "cell_type": "code",
      "metadata": {
        "id": "ZLg0fBSmZDNe"
      },
      "source": [
        "def stopwatch(end_time,start_time):\n",
        "  elapsed_time = int(end_time - start_time)\n",
        "\n",
        "  elapsed_hour = elapsed_time // 3600\n",
        "  elapsed_minute = (elapsed_time % 3600) // 60\n",
        "  elapsed_second = (elapsed_time % 3600 % 60)\n",
        "\n",
        "  mogi = str(elapsed_hour).zfill(2) + \":\" + str(elapsed_minute).zfill(2) + \":\" + str(elapsed_second).zfill(2)\n",
        "  return mogi"
      ],
      "execution_count": null,
      "outputs": []
    },
    {
      "cell_type": "code",
      "metadata": {
        "colab": {
          "base_uri": "https://localhost:8080/"
        },
        "id": "dqCaNoyVR-jl",
        "outputId": "e3f1dada-63eb-4f27-cef4-f8e90f4efdd2"
      },
      "source": [
        "n_in = 1\n",
        "n_mid = 20\n",
        "n_out = 1\n",
        "batch_size = 8\n",
        "opt = Adam(lr=0.001, beta_1=0.9, beta_2=0.999)\n",
        "\n",
        "model_lstm = Sequential()\n",
        "model_lstm.add(LSTM(n_mid,batch_input_shape=(None, maxlen, n_in),return_sequences=False))\n",
        "model_lstm.add(Dense(n_in, kernel_initializer='random_uniform'))\n",
        "model_lstm.add(Activation(\"linear\"))\n",
        "model_lstm.compile(loss = \"mean_squared_error\", optimizer=opt)\n",
        "print(model_lstm.summary())\n",
        "\n",
        "model_gru = Sequential()\n",
        "model_gru.add(GRU(n_mid,batch_input_shape=(None, maxlen, n_in),return_sequences=False))\n",
        "model_gru.add(Dense(n_in, kernel_initializer='random_uniform'))\n",
        "model_gru.add(Activation(\"linear\"))\n",
        "model_gru.compile(loss = \"mean_squared_error\", optimizer=opt)\n",
        "print(model_gru.summary())"
      ],
      "execution_count": null,
      "outputs": [
        {
          "output_type": "stream",
          "text": [
            "Model: \"sequential\"\n",
            "_________________________________________________________________\n",
            "Layer (type)                 Output Shape              Param #   \n",
            "=================================================================\n",
            "lstm (LSTM)                  (None, 20)                1760      \n",
            "_________________________________________________________________\n",
            "dense (Dense)                (None, 1)                 21        \n",
            "_________________________________________________________________\n",
            "activation (Activation)      (None, 1)                 0         \n",
            "=================================================================\n",
            "Total params: 1,781\n",
            "Trainable params: 1,781\n",
            "Non-trainable params: 0\n",
            "_________________________________________________________________\n",
            "None\n",
            "Model: \"sequential_1\"\n",
            "_________________________________________________________________\n",
            "Layer (type)                 Output Shape              Param #   \n",
            "=================================================================\n",
            "gru (GRU)                    (None, 20)                1380      \n",
            "_________________________________________________________________\n",
            "dense_1 (Dense)              (None, 1)                 21        \n",
            "_________________________________________________________________\n",
            "activation_1 (Activation)    (None, 1)                 0         \n",
            "=================================================================\n",
            "Total params: 1,401\n",
            "Trainable params: 1,401\n",
            "Non-trainable params: 0\n",
            "_________________________________________________________________\n",
            "None\n"
          ],
          "name": "stdout"
        }
      ]
    },
    {
      "cell_type": "code",
      "metadata": {
        "colab": {
          "base_uri": "https://localhost:8080/"
        },
        "id": "g9dDIGI0CGC9",
        "outputId": "a0a563a1-94ab-4e7f-8c16-4c9e3994ec8a"
      },
      "source": [
        "epochs = 100\n",
        "\n",
        "start_time = time.time()\n",
        "hist_lstm = model_lstm.fit(X_train, y_train, batch_size=batch_size, epochs=epochs,verbose=0)\n",
        "print(\"学習時間 --LSTM--:\", stopwatch(time.time(),start_time))\n",
        "\n",
        "start_time = time.time()\n",
        "hist_gru = model_gru.fit(X_train, y_train, batch_size=batch_size, epochs=epochs,verbose=0)\n",
        "print(\"学習時間 --GRU--:\", stopwatch(time.time(),start_time))"
      ],
      "execution_count": null,
      "outputs": [
        {
          "output_type": "stream",
          "text": [
            "学習時間 --LSTM--: 00:00:58\n",
            "学習時間 --GRU--: 00:01:05\n"
          ],
          "name": "stdout"
        }
      ]
    },
    {
      "cell_type": "code",
      "metadata": {
        "colab": {
          "base_uri": "https://localhost:8080/",
          "height": 530
        },
        "id": "aBd9iqInSJts",
        "outputId": "25899c72-e9ac-4f64-adca-49d3109d1093"
      },
      "source": [
        "nov_dir2 = 'Colab Notebooks/workspace/export/'\n",
        "\n",
        "#　損失関数\n",
        "loss_lstm = hist_lstm.history['loss']\n",
        "epochs_lstm = len(loss_lstm)\n",
        "\n",
        "loss_gru = hist_gru.history['loss']\n",
        "epochs_gru = len(loss_gru)\n",
        "\n",
        "plt.plot(range(epochs_lstm), loss_lstm, label=\"loss_lstm\", color='tab:orange')\n",
        "plt.plot(range(epochs_gru), loss_gru, label=\"loss_lstm\", color='tab:green')\n",
        "plt.legend()\n",
        "nov_path = '/content/drive/My Drive/' + nov_dir2 + 'ex_fc1_3.png'\n",
        "\n",
        "plt.savefig(nov_path)\n",
        "plt.show()\n",
        "plt.close('all')\n",
        "\n",
        "# 予測結果\n",
        "predicted_gru = model_gru.predict(X_test)\n",
        "predicted_lstm = model_lstm.predict(X_test)\n",
        "result = pd.DataFrame(predicted_gru)\n",
        "result.columns = ['forcast_gru']\n",
        "result['actual'] = y_test\n",
        "result['forcast_lstm'] = predicted_lstm\n",
        "result = result.reindex(columns=['actual', 'forcast_lstm', 'forcast_gru'])\n",
        "\n",
        "plt.figure()\n",
        "result.plot()\n",
        "nov_path = '/content/drive/My Drive/' + nov_dir2 + 'ex_fc1_4.png'\n",
        "\n",
        "plt.savefig(nov_path)\n",
        "plt.show()\n",
        "plt.close('all')\n"
      ],
      "execution_count": null,
      "outputs": [
        {
          "output_type": "display_data",
          "data": {
            "image/png": "[encoded data removed]",
            "text/plain": [
              "<Figure size 432x288 with 1 Axes>"
            ]
          },
          "metadata": {
            "tags": [],
            "needs_background": "light"
          }
        },
        {
          "output_type": "display_data",
          "data": {
            "text/plain": [
              "<Figure size 432x288 with 0 Axes>"
            ]
          },
          "metadata": {
            "tags": []
          }
        },
        {
          "output_type": "display_data",
          "data": {
            "image/png": "[encoded data removed]",
            "text/plain": [
              "<Figure size 432x288 with 1 Axes>"
            ]
          },
          "metadata": {
            "tags": [],
            "needs_background": "light"
          }
        }
      ]
    },
    {
      "cell_type": "code",
      "metadata": {
        "colab": {
          "base_uri": "https://localhost:8080/"
        },
        "id": "tQ14sgOglPyd",
        "outputId": "b2f0cf0f-db1a-49ab-ac59-6a8a1d259a20"
      },
      "source": [
        "n_in = 1\n",
        "n_mid = 20\n",
        "n_out = 1\n",
        "batch_size = 1\n",
        "opt = Adam(lr=0.001, beta_1=0.9, beta_2=0.999)\n",
        "\n",
        "model_gru2 = Sequential()\n",
        "model_gru2.add(GRU(n_mid,batch_input_shape=(None, maxlen, n_in),return_sequences=True))\n",
        "model_gru2.add(Dense(n_in, kernel_initializer='random_uniform'))\n",
        "model_gru2.add(Activation(\"linear\"))\n",
        "model_gru2.compile(loss = \"mean_squared_error\", optimizer=opt)\n",
        "print(model_gru.summary())\n",
        "\n",
        "epochs = 10\n",
        "\n",
        "start_time = time.time()\n",
        "hist_gru = model_gru2.fit(X_train, y_train, batch_size=batch_size, epochs=epochs,verbose=0)\n",
        "print(\"学習時間 --GRU--:\", stopwatch(time.time(),start_time))"
      ],
      "execution_count": null,
      "outputs": [
        {
          "output_type": "stream",
          "text": [
            "Model: \"sequential_1\"\n",
            "_________________________________________________________________\n",
            "Layer (type)                 Output Shape              Param #   \n",
            "=================================================================\n",
            "gru (GRU)                    (None, 20)                1380      \n",
            "_________________________________________________________________\n",
            "dense_1 (Dense)              (None, 1)                 21        \n",
            "_________________________________________________________________\n",
            "activation_1 (Activation)    (None, 1)                 0         \n",
            "=================================================================\n",
            "Total params: 1,401\n",
            "Trainable params: 1,401\n",
            "Non-trainable params: 0\n",
            "_________________________________________________________________\n",
            "None\n",
            "学習時間 --GRU--: 00:00:32\n"
          ],
          "name": "stdout"
        }
      ]
    },
    {
      "cell_type": "code",
      "metadata": {
        "colab": {
          "base_uri": "https://localhost:8080/"
        },
        "id": "mmiXNT7Kmme-",
        "outputId": "787bc77b-7d81-42ed-cf7d-c9658336c9ac"
      },
      "source": [
        "# 学習済みモデル\n",
        "n_rnn = maxlen\n",
        "print(X.shape)\n",
        "predicted = X[0].reshape(-1) #最初の入力、reshapeにより一次元にしてある。\n",
        "print(predicted[-n_rnn:].reshape(batch_size, n_rnn, n_in).shape)\n",
        "\n",
        "for i in range(0,n_sample):\n",
        "  y = model_gru2.predict(predicted[-n_rnn:].reshape(batch_size, n_rnn, n_in))\n",
        "  predicted = np.append(predicted, y[batch_size-1][n_rnn - 1][0])\n",
        "\n",
        "\n",
        "print(predicted_gru.shape)\n",
        "print(\"---------------\")\n",
        "print(predicted.shape)"
      ],
      "execution_count": null,
      "outputs": [
        {
          "output_type": "stream",
          "text": [
            "(1758, 10, 1)\n",
            "(1, 10, 1)\n",
            "(354, 1)\n",
            "---------------\n",
            "(20,)\n"
          ],
          "name": "stdout"
        }
      ]
    }
  ]
}