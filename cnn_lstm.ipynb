{
  "nbformat": 4,
  "nbformat_minor": 0,
  "metadata": {
    "colab": {
      "name": "cnn_lstm.ipynb",
      "provenance": [],
      "collapsed_sections": [],
      "authorship_tag": "ABX9TyOa4nkaojeFQlx3PIUIAViL",
      "include_colab_link": true
    },
    "kernelspec": {
      "name": "python3",
      "display_name": "Python 3"
    },
    "language_info": {
      "name": "python"
    }
  },
  "cells": [
    {
      "cell_type": "markdown",
      "metadata": {
        "id": "view-in-github",
        "colab_type": "text"
      },
      "source": [
        "<a href=\"https://colab.research.google.com/github/sugiyama404/forecast_sp500/blob/main/cnn_lstm.ipynb\" target=\"_parent\"><img src=\"https://colab.research.google.com/assets/colab-badge.svg\" alt=\"Open In Colab\"/></a>"
      ]
    },
    {
      "cell_type": "code",
      "metadata": {
        "id": "ENxtgGhfQzj_"
      },
      "source": [
        "import numpy as np\n",
        "import pandas as pd\n",
        "import matplotlib.pyplot as plt\n",
        "\n",
        "from sklearn import preprocessing\n",
        "from keras.models import Sequential\n",
        "from keras.layers.core import Dense, Activation\n",
        "from keras.layers.recurrent import LSTM,GRU\n",
        "from keras.layers import Conv1D, Input, MaxPool1D\n",
        "\n",
        "from keras.optimizers import Adam\n",
        "from keras.callbacks import EarlyStopping\n",
        "from google.colab import drive\n",
        "import time"
      ],
      "execution_count": 1,
      "outputs": []
    },
    {
      "cell_type": "markdown",
      "metadata": {
        "id": "SZGMJ9EvEfUX"
      },
      "source": [
        ""
      ]
    },
    {
      "cell_type": "code",
      "metadata": {
        "colab": {
          "base_uri": "https://localhost:8080/"
        },
        "id": "otZdorGeQ1Ft",
        "outputId": "1f51cb5c-79ea-4fdd-9af3-27eec78a2ebb"
      },
      "source": [
        "drive.mount('/content/drive/')\n",
        "nov_dir = 'Colab Notebooks/dataset/reinforcement_learning/'\n",
        "nov_train = '/content/drive/My Drive/' + nov_dir + 'sp500_train.csv'\n",
        "nov_test = '/content/drive/My Drive/' + nov_dir + 'sp500_test.csv'\n",
        "\n",
        "df_train = pd.read_csv(nov_train)\n",
        "df_train['Date'] = pd.to_datetime(df_train['Date'], format = '%Y-%m-%d')\n",
        "df_train['SP500'] = preprocessing.scale(df_train['SP500'])\n",
        "\n",
        "print(df_train.shape)\n",
        "\n",
        "look_back = 10\n",
        "n_sample = len(df_train) - look_back\n",
        "X, Y, A = [], [], []\n",
        "for i in range(len(df_train) - look_back):\n",
        "    X.append(df_train[['SP500']].iloc[i:(i+look_back)].values) # 観測データ\n",
        "    Y.append(df_train[['SP500']].iloc[i+1:(i+look_back+1)].values) # 教師データ\n",
        "    A.append(df_train[['SP500']].iloc[i+look_back].values) \n",
        "X_train = np.array(X)\n",
        "y_train = np.array(Y)\n",
        "A_train = np.array(A)\n",
        "\n",
        "print(X_train.shape)\n",
        "print(y_train.shape)\n",
        "\n",
        "\n",
        "df_test = pd.read_csv(nov_test)\n",
        "df_test['Date'] = pd.to_datetime(df_test['Date'], format = '%Y-%m-%d')\n",
        "df_test['SP500'] = preprocessing.scale(df_test['SP500'])\n",
        "\n",
        "print(df_test.shape)\n",
        "\n",
        "look_back = 10\n",
        "n_sample = len(df_test) - look_back\n",
        "X, Y, A = [], [], []\n",
        "for i in range(len(df_test) - look_back):\n",
        "    X.append(df_test[['SP500']].iloc[i:(i+look_back)].values)\n",
        "    Y.append(df_test[['SP500']].iloc[i+1:(i+look_back+1)].values)\n",
        "    A.append(df_test[['SP500']].iloc[i+look_back].values)\n",
        "X_test = np.array(X)\n",
        "y_test = np.array(Y)\n",
        "A_test = np.array(A)\n",
        "\n",
        "print(X_test.shape)\n",
        "print(y_test.shape)"
      ],
      "execution_count": 2,
      "outputs": [
        {
          "output_type": "stream",
          "text": [
            "Drive already mounted at /content/drive/; to attempt to forcibly remount, call drive.mount(\"/content/drive/\", force_remount=True).\n",
            "(628, 2)\n",
            "(618, 10, 1)\n",
            "(618, 10, 1)\n",
            "(882, 2)\n",
            "(872, 10, 1)\n",
            "(872, 10, 1)\n"
          ],
          "name": "stdout"
        }
      ]
    },
    {
      "cell_type": "markdown",
      "metadata": {
        "id": "kPURdVpzZK2v"
      },
      "source": [
        "# ストップウォッチ関数"
      ]
    },
    {
      "cell_type": "code",
      "metadata": {
        "id": "ZLg0fBSmZDNe"
      },
      "source": [
        "def stopwatch(end_time,start_time):\n",
        "  elapsed_time = int(end_time - start_time)\n",
        "\n",
        "  elapsed_hour = elapsed_time // 3600\n",
        "  elapsed_minute = (elapsed_time % 3600) // 60\n",
        "  elapsed_second = (elapsed_time % 3600 % 60)\n",
        "\n",
        "  mozi = str(elapsed_hour).zfill(2) + \":\" + str(elapsed_minute).zfill(2) + \":\" + str(elapsed_second).zfill(2)\n",
        "  return mozi"
      ],
      "execution_count": 3,
      "outputs": []
    },
    {
      "cell_type": "markdown",
      "metadata": {
        "id": "V7AH_hrYa69B"
      },
      "source": [
        "# モデル構築"
      ]
    },
    {
      "cell_type": "code",
      "metadata": {
        "colab": {
          "base_uri": "https://localhost:8080/"
        },
        "id": "dqCaNoyVR-jl",
        "outputId": "deae2000-33af-4f0f-d08a-cae72631f06d"
      },
      "source": [
        "conv_filter = 4\n",
        "units = 8\n",
        "batch_size = 8\n",
        "\n",
        "opt = Adam(learning_rate=0.001)\n",
        "\n",
        "model = Sequential()\n",
        "\n",
        "model.add(Conv1D(filters=conv_filter, kernel_size=1, padding=\"same\", activation=\"tanh\",batch_input_shape=(None, look_back, 1)))\n",
        "model.add(MaxPool1D(pool_size=1, padding='same'))\n",
        "model.add(Activation(\"relu\"))\n",
        "model.add(LSTM(units, return_sequences=True))\n",
        "model.add(Dense(1, kernel_initializer='random_uniform'))\n",
        "model.compile(loss = \"mean_absolute_error\", optimizer=opt)\n",
        "print(model.summary())"
      ],
      "execution_count": 4,
      "outputs": [
        {
          "output_type": "stream",
          "text": [
            "Model: \"sequential\"\n",
            "_________________________________________________________________\n",
            "Layer (type)                 Output Shape              Param #   \n",
            "=================================================================\n",
            "conv1d (Conv1D)              (None, 10, 4)             8         \n",
            "_________________________________________________________________\n",
            "max_pooling1d (MaxPooling1D) (None, 10, 4)             0         \n",
            "_________________________________________________________________\n",
            "activation (Activation)      (None, 10, 4)             0         \n",
            "_________________________________________________________________\n",
            "lstm (LSTM)                  (None, 10, 8)             416       \n",
            "_________________________________________________________________\n",
            "dense (Dense)                (None, 10, 1)             9         \n",
            "=================================================================\n",
            "Total params: 433\n",
            "Trainable params: 433\n",
            "Non-trainable params: 0\n",
            "_________________________________________________________________\n",
            "None\n"
          ],
          "name": "stdout"
        }
      ]
    },
    {
      "cell_type": "markdown",
      "metadata": {
        "id": "6YnUR1c-ZBij"
      },
      "source": [
        "# 学習"
      ]
    },
    {
      "cell_type": "code",
      "metadata": {
        "colab": {
          "base_uri": "https://localhost:8080/"
        },
        "id": "g9dDIGI0CGC9",
        "outputId": "e4db7511-2774-4c8e-b100-9b1b75f9f18c"
      },
      "source": [
        "epochs = 100\n",
        "\n",
        "start_time = time.time()\n",
        "hist = model.fit(X_train, y_train, batch_size=batch_size, epochs=epochs,verbose=0)\n",
        "print(\"学習時間 LSTM : \", stopwatch(time.time(),start_time))"
      ],
      "execution_count": 5,
      "outputs": [
        {
          "output_type": "stream",
          "text": [
            "学習時間 LSTM :  00:01:43\n"
          ],
          "name": "stdout"
        }
      ]
    },
    {
      "cell_type": "markdown",
      "metadata": {
        "id": "Jp4sw62JYYRU"
      },
      "source": [
        "# 損失関数"
      ]
    },
    {
      "cell_type": "code",
      "metadata": {
        "colab": {
          "base_uri": "https://localhost:8080/",
          "height": 295
        },
        "id": "Wg_do6QJYTiB",
        "outputId": "3843694b-4001-4810-a73f-e98eaf120637"
      },
      "source": [
        "nov_dir2 = 'Colab Notebooks/workspace/export/'\n",
        "\n",
        "loss = hist.history['loss']\n",
        "epochs = len(loss)\n",
        "\n",
        "plt.plot(range(epochs), loss, label=\"loss\", color='tab:orange')\n",
        "plt.title('Loss Function')\n",
        "plt.xlabel('Epochs')\n",
        "plt.ylabel('Loss')\n",
        "plt.legend()\n",
        "nov_path2 = '/content/drive/My Drive/' + nov_dir2 + 'cnn_lstm_lossfunc.png'\n",
        "\n",
        "plt.savefig(nov_path2)\n",
        "plt.show()\n",
        "plt.close('all')"
      ],
      "execution_count": 6,
      "outputs": [
        {
          "output_type": "display_data",
          "data": {
            "image/png": "[encoded data removed]",
            "text/plain": [
              "<Figure size 432x288 with 1 Axes>"
            ]
          },
          "metadata": {
            "tags": [],
            "needs_background": "light"
          }
        }
      ]
    },
    {
      "cell_type": "markdown",
      "metadata": {
        "id": "myQpUTLbYyk2"
      },
      "source": [
        "# 訓練結果"
      ]
    },
    {
      "cell_type": "code",
      "metadata": {
        "colab": {
          "base_uri": "https://localhost:8080/",
          "height": 573
        },
        "id": "aBd9iqInSJts",
        "outputId": "51273b52-db00-422a-fbc1-c1f34d0815a6"
      },
      "source": [
        "predicted = model.predict(X_train)\n",
        "y1 = []\n",
        "p = predicted.reshape(-1,10)\n",
        "for i in range(len(p)):\n",
        "    y1.append(p[i][-1])\n",
        "\n",
        "x1 = [ i for i in range(len(y1))]\n",
        "\n",
        "y2 = A_train\n",
        "x2 = [ i for i in range(len(y2))]\n",
        "\n",
        "plt.figure()\n",
        "plt.plot(x1, y1, label=\"predicted\")\n",
        "plt.plot(x2, y2, label=\"actual\")\n",
        "plt.legend(borderaxespad=1)\n",
        "plt.title('Stock Price Prediction (training)')\n",
        "plt.xlabel('Days')\n",
        "plt.ylabel('Open Price (preprocessing)')\n",
        "\n",
        "nov_path3 = '/content/drive/My Drive/' + nov_dir2 + 'cnn_lstm_training.png'\n",
        "plt.savefig(nov_path3)\n",
        "plt.show()\n",
        "plt.close('all')\n",
        "\n",
        "\n",
        "\n",
        "predicted = model.predict(X_test)\n",
        "y1 = []\n",
        "p = predicted.reshape(-1,10)\n",
        "for i in range(len(p)):\n",
        "    y1.append(p[i][-1])\n",
        "\n",
        "x1 = [ i for i in range(len(y1))]\n",
        "\n",
        "y2 = A_test\n",
        "x2 = [ i for i in range(len(y2))]\n",
        "\n",
        "plt.figure()\n",
        "plt.plot(x1, y1, label=\"predicted\")\n",
        "plt.plot(x2, y2, label=\"actual\")\n",
        "plt.legend(borderaxespad=1)\n",
        "plt.title('Stock Price Prediction (test)')\n",
        "plt.xlabel('Days')\n",
        "plt.ylabel('Open Price (preprocessing)')\n",
        "\n",
        "nov_path4 = '/content/drive/My Drive/' + nov_dir2 + 'cnn_lstm_test.png'\n",
        "plt.savefig(nov_path4)\n",
        "plt.show()\n",
        "plt.close('all')"
      ],
      "execution_count": 18,
      "outputs": [
        {
          "output_type": "display_data",
          "data": {
            "image/png": "[encoded data removed]",
            "text/plain": [
              "<Figure size 432x288 with 1 Axes>"
            ]
          },
          "metadata": {
            "tags": [],
            "needs_background": "light"
          }
        },
        {
          "output_type": "display_data",
          "data": {
            "image/png": "[encoded data removed]",
            "text/plain": [
              "<Figure size 432x288 with 1 Axes>"
            ]
          },
          "metadata": {
            "tags": [],
            "needs_background": "light"
          }
        }
      ]
    },
    {
      "cell_type": "code",
      "metadata": {
        "colab": {
          "base_uri": "https://localhost:8080/"
        },
        "id": "JrFkPrZWX4u4",
        "outputId": "cd35a508-a25a-4453-9d99-cfb88568d0cb"
      },
      "source": [
        "a = np.array([[[-0.55132077],[-0.82525816],[-0.95611004],[-0.78651904],[-0.52263131],\n",
        "               [-0.64882191],[-0.76933434],[-0.80741747],[-0.89305029],[-1.02848967]]])\n",
        "model.predict(a)\n",
        "\n",
        "# a=np.array([[[-0.55132077]]]) の時 array([[[-1.0430841]]], dtype=float32)\n",
        "# a[0][-1][0] = -1.02848967"
      ],
      "execution_count": 21,
      "outputs": [
        {
          "output_type": "execute_result",
          "data": {
            "text/plain": [
              "array([[[-0.54819626],\n",
              "        [-0.82622457],\n",
              "        [-0.9370572 ],\n",
              "        [-0.7571822 ],\n",
              "        [-0.51334435],\n",
              "        [-0.62922263],\n",
              "        [-0.73636705],\n",
              "        [-0.77258235],\n",
              "        [-0.85829693],\n",
              "        [-0.9923734 ]]], dtype=float32)"
            ]
          },
          "metadata": {
            "tags": []
          },
          "execution_count": 21
        }
      ]
    }
  ]
}