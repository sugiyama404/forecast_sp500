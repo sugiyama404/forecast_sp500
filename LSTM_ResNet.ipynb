{
  "nbformat": 4,
  "nbformat_minor": 0,
  "metadata": {
    "colab": {
      "name": "LSTM-ResNet.ipynb",
      "provenance": [],
      "collapsed_sections": [],
      "machine_shape": "hm",
      "authorship_tag": "ABX9TyNLfgxS0LBna8rykofSZWDZ",
      "include_colab_link": true
    },
    "kernelspec": {
      "name": "python3",
      "display_name": "Python 3"
    },
    "language_info": {
      "name": "python"
    },
    "accelerator": "GPU"
  },
  "cells": [
    {
      "cell_type": "markdown",
      "metadata": {
        "id": "view-in-github",
        "colab_type": "text"
      },
      "source": [
        "<a href=\"https://colab.research.google.com/github/sugiyama404/forecast_sp500/blob/main/LSTM_ResNet.ipynb\" target=\"_parent\"><img src=\"https://colab.research.google.com/assets/colab-badge.svg\" alt=\"Open In Colab\"/></a>"
      ]
    },
    {
      "cell_type": "code",
      "metadata": {
        "id": "ENxtgGhfQzj_"
      },
      "source": [
        "import numpy as np\n",
        "import pandas as pd\n",
        "import matplotlib.pyplot as plt\n",
        "\n",
        "from sklearn import preprocessing\n",
        "\n",
        "import tensorflow as tf\n",
        "from tensorflow.keras.models import Sequential, clone_model, Model\n",
        "from tensorflow.keras.layers import Dense, ReLU, Input, Lambda, LSTM, Activation, MaxPool1D, Conv1D, Add, BatchNormalization\n",
        "\n",
        "from tensorflow.keras.optimizers import Adam, SGD\n",
        "import tensorflow.keras as keras\n",
        "from tensorflow.keras.losses import Huber\n",
        "from tensorflow.keras import backend as K\n",
        "from tensorflow.keras.regularizers import l2\n",
        "\n",
        "from tensorflow.keras.callbacks import EarlyStopping\n",
        "from google.colab import drive\n",
        "import time"
      ],
      "execution_count": 1,
      "outputs": []
    },
    {
      "cell_type": "markdown",
      "metadata": {
        "id": "SZGMJ9EvEfUX"
      },
      "source": [
        ""
      ]
    },
    {
      "cell_type": "code",
      "metadata": {
        "colab": {
          "base_uri": "https://localhost:8080/"
        },
        "id": "otZdorGeQ1Ft",
        "outputId": "61318e4f-7625-4de8-a799-99843b11912c"
      },
      "source": [
        "drive.mount('/content/drive/')\n",
        "nov_dir = 'Colab Notebooks/dataset/reinforcement_learning/'\n",
        "nov_train = '/content/drive/My Drive/' + nov_dir + 'sp500_train.csv'\n",
        "nov_test = '/content/drive/My Drive/' + nov_dir + 'sp500_test.csv'\n",
        "\n",
        "df_train = pd.read_csv(nov_train)\n",
        "df_train['Date'] = pd.to_datetime(df_train['Date'], format = '%Y-%m-%d')\n",
        "df_train['SP500'] = preprocessing.scale(df_train['SP500'])\n",
        "\n",
        "print(df_train.shape)\n",
        "\n",
        "look_back = 10\n",
        "n_sample = len(df_train) - look_back\n",
        "X, Y, A = [], [], []\n",
        "for i in range(len(df_train) - look_back):\n",
        "    X.append(df_train[['SP500']].iloc[i:(i+look_back)].values) # 観測データ\n",
        "    Y.append(df_train[['SP500']].iloc[i+1:(i+look_back+1)].values) # 教師データ\n",
        "    A.append(df_train[['SP500']].iloc[i+look_back].values) \n",
        "X_train = np.array(X)\n",
        "y_train = np.array(Y)\n",
        "A_train = np.array(A)\n",
        "\n",
        "print(X_train.shape)\n",
        "print(y_train.shape)\n",
        "\n",
        "\n",
        "df_test = pd.read_csv(nov_test)\n",
        "df_test['Date'] = pd.to_datetime(df_test['Date'], format = '%Y-%m-%d')\n",
        "df_test['SP500'] = preprocessing.scale(df_test['SP500'])\n",
        "\n",
        "print(df_test.shape)\n",
        "\n",
        "look_back = 10\n",
        "n_sample = len(df_test) - look_back\n",
        "X, Y, A = [], [], []\n",
        "for i in range(len(df_test) - look_back):\n",
        "    X.append(df_test[['SP500']].iloc[i:(i+look_back)].values)\n",
        "    Y.append(df_test[['SP500']].iloc[i+1:(i+look_back+1)].values)\n",
        "    A.append(df_test[['SP500']].iloc[i+look_back].values)\n",
        "X_test = np.array(X)\n",
        "y_test = np.array(Y)\n",
        "A_test = np.array(A)\n",
        "\n",
        "print(X_test.shape)\n",
        "print(y_test.shape)"
      ],
      "execution_count": 2,
      "outputs": [
        {
          "output_type": "stream",
          "name": "stdout",
          "text": [
            "Mounted at /content/drive/\n",
            "(628, 2)\n",
            "(618, 10, 1)\n",
            "(618, 10, 1)\n",
            "(882, 2)\n",
            "(872, 10, 1)\n",
            "(872, 10, 1)\n"
          ]
        }
      ]
    },
    {
      "cell_type": "markdown",
      "metadata": {
        "id": "kPURdVpzZK2v"
      },
      "source": [
        "# ストップウォッチ関数"
      ]
    },
    {
      "cell_type": "code",
      "metadata": {
        "id": "ZLg0fBSmZDNe"
      },
      "source": [
        "def stopwatch(end_time,start_time):\n",
        "  elapsed_time = int(end_time - start_time)\n",
        "\n",
        "  elapsed_hour = elapsed_time // 3600\n",
        "  elapsed_minute = (elapsed_time % 3600) // 60\n",
        "  elapsed_second = (elapsed_time % 3600 % 60)\n",
        "\n",
        "  mozi = str(elapsed_hour).zfill(2) + \":\" + str(elapsed_minute).zfill(2) + \":\" + str(elapsed_second).zfill(2)\n",
        "  return mozi"
      ],
      "execution_count": 3,
      "outputs": []
    },
    {
      "cell_type": "markdown",
      "metadata": {
        "id": "V7AH_hrYa69B"
      },
      "source": [
        "# モデル構築"
      ]
    },
    {
      "cell_type": "code",
      "metadata": {
        "colab": {
          "base_uri": "https://localhost:8080/",
          "height": 88
        },
        "id": "dqCaNoyVR-jl",
        "outputId": "fa5b09cb-711c-4163-e70a-5af48138d902"
      },
      "source": [
        "'''\n",
        "conv_filter = 4\n",
        "units = 8\n",
        "batch_size = 8\n",
        "\n",
        "opt = Adam(learning_rate=0.001)\n",
        "\n",
        "model = Sequential()\n",
        "\n",
        "model.add(Conv1D(filters=conv_filter, kernel_size=1, padding=\"same\", activation=\"tanh\",batch_input_shape=(None, look_back, 1)))\n",
        "model.add(MaxPool1D(pool_size=1, padding='same'))\n",
        "model.add(Activation(\"relu\"))\n",
        "model.add(LSTM(units, return_sequences=True))\n",
        "model.add(Dense(1, kernel_initializer='random_uniform'))\n",
        "model.compile(loss = \"mean_absolute_error\", optimizer=opt)\n",
        "print(model.summary())\n",
        "'''"
      ],
      "execution_count": 4,
      "outputs": [
        {
          "output_type": "execute_result",
          "data": {
            "application/vnd.google.colaboratory.intrinsic+json": {
              "type": "string"
            },
            "text/plain": [
              "'\\nconv_filter = 4\\nunits = 8\\nbatch_size = 8\\n\\nopt = Adam(learning_rate=0.001)\\n\\nmodel = Sequential()\\n\\nmodel.add(Conv1D(filters=conv_filter, kernel_size=1, padding=\"same\", activation=\"tanh\",batch_input_shape=(None, look_back, 1)))\\nmodel.add(MaxPool1D(pool_size=1, padding=\\'same\\'))\\nmodel.add(Activation(\"relu\"))\\nmodel.add(LSTM(units, return_sequences=True))\\nmodel.add(Dense(1, kernel_initializer=\\'random_uniform\\'))\\nmodel.compile(loss = \"mean_absolute_error\", optimizer=opt)\\nprint(model.summary())\\n'"
            ]
          },
          "metadata": {},
          "execution_count": 4
        }
      ]
    },
    {
      "cell_type": "code",
      "source": [
        "class Brain:\n",
        "    def __init__(self, loadmodel = False):\n",
        "        self.filters = 1\n",
        "        self.hidden_layers = 16\n",
        "        #self.obs_shape = (None, look_back, 1) # look_back=10\n",
        "        self.obs_shape = (look_back, 1) # look_back=10\n",
        "        self.nn_actions = 9\n",
        "        self.kr = l2(0.0005)\n",
        "        self.opt = SGD(learning_rate = 0.001, momentum = 0.9)\n",
        "        self.units = 1\n",
        "\n",
        "        if not loadmodel:\n",
        "            self._main_network_layer()\n",
        "        else:\n",
        "            self._load()\n",
        "\n",
        "    def _main_network_layer(self):\n",
        "        input = Input(shape = self.obs_shape)\n",
        "        x = self._conv_layer(self.filters)(input)\n",
        "        for i in range(self.hidden_layers):\n",
        "            x = self._residual_layer()(x)\n",
        "        #x = MaxPool1D(pool_size=1, padding='same')(x)\n",
        "        x = Dense(self.units, kernel_regularizer=self.kr)(x)\n",
        "        x = LSTM(self.units, return_sequences=True)(x)\n",
        "\n",
        "        model = Model(inputs = input, outputs= x)\n",
        "        model.compile(loss = ['categorical_crossentropy', 'mse'], optimizer = self.opt)\n",
        "        self.model = model\n",
        "\n",
        "\n",
        "    def _residual_layer(self):\n",
        "        def f(input_block):\n",
        "            x = self._conv_layer(self.filters)(input_block)\n",
        "            x = self._conv_layer(self.filters, join_act = False)(x)\n",
        "            x = Add()([x, input_block])\n",
        "            x = Activation('relu')(x)\n",
        "            return x\n",
        "        return f\n",
        "\n",
        "    def _conv_layer(self, filters, join_act = True):\n",
        "        def f(input_block):\n",
        "            x = Conv1D(filters=filters, kernel_size=1, padding=\"same\",\n",
        "                       use_bias=False, kernel_initializer='he_normal',\n",
        "                       kernel_regularizer=self.kr)(input_block)\n",
        "            x = BatchNormalization()(x)\n",
        "            if join_act:\n",
        "                x = Activation('relu')(x)\n",
        "            return x\n",
        "        return f"
      ],
      "metadata": {
        "id": "5Bo7g532ECya"
      },
      "execution_count": 5,
      "outputs": []
    },
    {
      "cell_type": "code",
      "source": [
        "brain = Brain()\n",
        "model = brain.model"
      ],
      "metadata": {
        "id": "oKw1pLpdECnl"
      },
      "execution_count": 6,
      "outputs": []
    },
    {
      "cell_type": "markdown",
      "metadata": {
        "id": "6YnUR1c-ZBij"
      },
      "source": [
        "# 学習"
      ]
    },
    {
      "cell_type": "code",
      "metadata": {
        "colab": {
          "base_uri": "https://localhost:8080/"
        },
        "id": "g9dDIGI0CGC9",
        "outputId": "6d369776-4bb9-435b-f29f-62b530ea8ed1"
      },
      "source": [
        "epochs = 100\n",
        "batch_size = 8\n",
        "\n",
        "start_time = time.time()\n",
        "hist = model.fit(X_train, y_train, batch_size=batch_size, epochs=epochs, verbose=0)\n",
        "print(\"学習時間 LSTM : \", stopwatch(time.time(),start_time))"
      ],
      "execution_count": 7,
      "outputs": [
        {
          "output_type": "stream",
          "name": "stdout",
          "text": [
            "学習時間 LSTM :  00:03:17\n"
          ]
        }
      ]
    },
    {
      "cell_type": "markdown",
      "metadata": {
        "id": "Jp4sw62JYYRU"
      },
      "source": [
        "# 損失関数"
      ]
    },
    {
      "cell_type": "code",
      "metadata": {
        "colab": {
          "base_uri": "https://localhost:8080/",
          "height": 303
        },
        "id": "Wg_do6QJYTiB",
        "outputId": "752cb6bd-060f-442a-881d-621f468f30cf"
      },
      "source": [
        "nov_dir2 = 'Colab Notebooks/workspace/export/'\n",
        "\n",
        "plt.rcParams['font.family'] = 'serif'\n",
        "plt.rcParams['font.serif'] = ['Times New Roman'] + plt.rcParams['font.serif']\n",
        "plt.rcParams[\"xtick.direction\"] = \"in\"\n",
        "plt.rcParams[\"ytick.direction\"] = \"in\"\n",
        "plt.rcParams[\"xtick.minor.visible\"] = True\n",
        "plt.rcParams[\"ytick.minor.visible\"] = True\n",
        "plt.rcParams[\"xtick.major.width\"] = 1.5\n",
        "plt.rcParams[\"ytick.major.width\"] = 1.5\n",
        "plt.rcParams[\"xtick.minor.width\"] = 1.0\n",
        "plt.rcParams[\"ytick.minor.width\"] = 1.0\n",
        "plt.rcParams[\"xtick.major.size\"] = 10\n",
        "plt.rcParams[\"ytick.major.size\"] = 10\n",
        "plt.rcParams[\"xtick.minor.size\"] = 5\n",
        "plt.rcParams[\"ytick.minor.size\"] = 5\n",
        "plt.rcParams[\"font.size\"] = 14\n",
        "plt.rcParams[\"axes.linewidth\"] = 1.5\n",
        "\n",
        "loss = hist.history['loss']\n",
        "epochs = len(loss)\n",
        "\n",
        "plt.plot(range(epochs), loss, label=\"loss\", color='tab:orange')\n",
        "plt.title('Loss Function')\n",
        "plt.xlabel('Epochs')\n",
        "plt.ylabel('Loss')\n",
        "plt.legend()\n",
        "nov_path2 = '/content/drive/My Drive/' + nov_dir2 + 'cnn_lstm_lossfunc.png'\n",
        "\n",
        "plt.savefig(nov_path2)\n",
        "plt.show()\n",
        "plt.close('all')"
      ],
      "execution_count": 8,
      "outputs": [
        {
          "output_type": "display_data",
          "data": {
            "image/png": "[encoded data removed]",
            "text/plain": [
              "<Figure size 432x288 with 1 Axes>"
            ]
          },
          "metadata": {
            "needs_background": "light"
          }
        }
      ]
    },
    {
      "cell_type": "markdown",
      "metadata": {
        "id": "myQpUTLbYyk2"
      },
      "source": [
        "# 訓練結果"
      ]
    },
    {
      "cell_type": "code",
      "metadata": {
        "colab": {
          "base_uri": "https://localhost:8080/",
          "height": 589
        },
        "id": "aBd9iqInSJts",
        "outputId": "198e595a-7e82-4db4-e774-5a534683eade"
      },
      "source": [
        "predicted = model.predict(X_train)\n",
        "y1 = []\n",
        "p = predicted.reshape(-1,10)\n",
        "for i in range(len(p)):\n",
        "    y1.append(p[i][-1])\n",
        "\n",
        "x1 = [ i for i in range(len(y1))]\n",
        "\n",
        "y2 = A_train\n",
        "x2 = [ i for i in range(len(y2))]\n",
        "\n",
        "plt.figure()\n",
        "plt.plot(x1, y1, label=\"predicted\")\n",
        "plt.plot(x2, y2, label=\"actual\")\n",
        "plt.legend(borderaxespad=1)\n",
        "plt.title('Stock Price Prediction (training)')\n",
        "plt.xlabel('Days')\n",
        "plt.ylabel('Open Price (preprocessing)')\n",
        "\n",
        "nov_path3 = '/content/drive/My Drive/' + nov_dir2 + 'cnn_lstm_training.png'\n",
        "plt.savefig(nov_path3)\n",
        "plt.show()\n",
        "plt.close('all')\n",
        "\n",
        "\n",
        "\n",
        "predicted = model.predict(X_test)\n",
        "y1 = []\n",
        "p = predicted.reshape(-1,10)\n",
        "for i in range(len(p)):\n",
        "    y1.append(p[i][-1])\n",
        "\n",
        "x1 = [ i for i in range(len(y1))]\n",
        "\n",
        "y2 = A_test\n",
        "x2 = [ i for i in range(len(y2))]\n",
        "\n",
        "plt.figure()\n",
        "plt.plot(x1, y1, label=\"predicted\")\n",
        "plt.plot(x2, y2, label=\"actual\")\n",
        "plt.legend(borderaxespad=1)\n",
        "plt.title('Stock Price Prediction (test)')\n",
        "plt.xlabel('Days')\n",
        "plt.ylabel('Open Price (preprocessing)')\n",
        "\n",
        "nov_path4 = '/content/drive/My Drive/' + nov_dir2 + 'cnn_lstm_test.png'\n",
        "plt.savefig(nov_path4)\n",
        "plt.show()\n",
        "plt.close('all')"
      ],
      "execution_count": 9,
      "outputs": [
        {
          "output_type": "display_data",
          "data": {
            "image/png": "[encoded data removed]",
            "text/plain": [
              "<Figure size 432x288 with 1 Axes>"
            ]
          },
          "metadata": {
            "needs_background": "light"
          }
        },
        {
          "output_type": "display_data",
          "data": {
            "image/png": "[encoded data removed]",
            "text/plain": [
              "<Figure size 432x288 with 1 Axes>"
            ]
          },
          "metadata": {
            "needs_background": "light"
          }
        }
      ]
    },
    {
      "cell_type": "code",
      "metadata": {
        "colab": {
          "base_uri": "https://localhost:8080/"
        },
        "id": "JrFkPrZWX4u4",
        "outputId": "586e55ac-4fdd-427e-dc23-dd5244ca2559"
      },
      "source": [
        "a = np.array([[[-0.55132077],[-0.82525816],[-0.95611004],[-0.78651904],[-0.52263131],\n",
        "               [-0.64882191],[-0.76933434],[-0.80741747],[-0.89305029],[-1.02848967]]])\n",
        "model.predict(a)\n",
        "\n",
        "# a=np.array([[[-0.55132077]]]) の時 array([[[-1.0430841]]], dtype=float32)\n",
        "# a[0][-1][0] = -1.02848967"
      ],
      "execution_count": 10,
      "outputs": [
        {
          "output_type": "execute_result",
          "data": {
            "text/plain": [
              "array([[[nan],\n",
              "        [nan],\n",
              "        [nan],\n",
              "        [nan],\n",
              "        [nan],\n",
              "        [nan],\n",
              "        [nan],\n",
              "        [nan],\n",
              "        [nan],\n",
              "        [nan]]], dtype=float32)"
            ]
          },
          "metadata": {},
          "execution_count": 10
        }
      ]
    }
  ]
}